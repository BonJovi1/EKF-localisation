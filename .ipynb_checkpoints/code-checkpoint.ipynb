{
 "cells": [
  {
   "cell_type": "code",
   "execution_count": 2,
   "metadata": {},
   "outputs": [],
   "source": [
    "import cv2\n",
    "import numpy as np\n",
    "import matplotlib.pyplot as plt\n",
    "import open3d as o3d\n",
    "import os"
   ]
  },
  {
   "cell_type": "code",
   "execution_count": 3,
   "metadata": {},
   "outputs": [],
   "source": [
    "dataset = np.load('./dataset.npz')"
   ]
  },
  {
   "cell_type": "code",
   "execution_count": 4,
   "metadata": {},
   "outputs": [
    {
     "data": {
      "text/plain": [
       "(12609, 1)"
      ]
     },
     "execution_count": 4,
     "metadata": {},
     "output_type": "execute_result"
    }
   ],
   "source": [
    "a = dataset['th_true'][0]\n",
    "np.asscalar(a)\n",
    "dataset['th_true'].shape"
   ]
  },
  {
   "cell_type": "markdown",
   "metadata": {},
   "source": [
    "Use the groundtruth pose of the robot as xˆ0 to initialize your filter and choose Pˆ 0 = diag{1, 1, 0.1}. Also assume a uniform 0.1 second sampling period."
   ]
  },
  {
   "cell_type": "code",
   "execution_count": 30,
   "metadata": {},
   "outputs": [
    {
     "name": "stdout",
     "output_type": "stream",
     "text": [
      "[ 3.01975613  0.07089905 -2.91015736]\n"
     ]
    }
   ],
   "source": [
    "x = dataset['x_true'][0]\n",
    "x = np.asscalar(x)\n",
    "\n",
    "y = dataset['y_true'][0]\n",
    "y = np.asscalar(y)\n",
    "\n",
    "th = dataset['th_true'][0]\n",
    "th = np.asscalar(th)\n",
    "\n",
    "# initial position\n",
    "pos = [x, y, th]\n",
    "pos = np.array(pos) # 3x1\n",
    "print(pos)"
   ]
  },
  {
   "cell_type": "code",
   "execution_count": 29,
   "metadata": {},
   "outputs": [
    {
     "name": "stdout",
     "output_type": "stream",
     "text": [
      "[2.15491642e-03 5.07822970e-04 5.60278597e-05]\n",
      "[ 3.02406597  0.07191469 -2.91004531]\n"
     ]
    }
   ],
   "source": [
    "# for k in range(1, 12609):\n",
    "head_mat = [[np.cos(th), np.sin(th), 0], [0,0,1]]\n",
    "head_mat = np.array(head_mat)\n",
    "head_mat = head_mat.T # 3x2\n",
    "\n",
    "v = dataset['v'][1]\n",
    "v = np.asscalar(v)\n",
    "\n",
    "om = dataset['om'][1]\n",
    "om = np.asscalar(om)\n",
    "\n",
    "vom_mat = [v, om]\n",
    "vom_mat = np.array(vom_mat)\n",
    "\n",
    "motion_model = np.matmul(head_mat, vom_mat)\n",
    "motion_model = motion_model * 0.1\n",
    "print(motion_model)\n",
    "\n",
    "pos = pos + motion_model\n",
    "print(pos)"
   ]
  },
  {
   "cell_type": "code",
   "execution_count": null,
   "metadata": {},
   "outputs": [],
   "source": []
  }
 ],
 "metadata": {
  "kernelspec": {
   "display_name": "Python 3",
   "language": "python",
   "name": "python3"
  },
  "language_info": {
   "codemirror_mode": {
    "name": "ipython",
    "version": 3
   },
   "file_extension": ".py",
   "mimetype": "text/x-python",
   "name": "python",
   "nbconvert_exporter": "python",
   "pygments_lexer": "ipython3",
   "version": "3.7.3"
  }
 },
 "nbformat": 4,
 "nbformat_minor": 2
}
